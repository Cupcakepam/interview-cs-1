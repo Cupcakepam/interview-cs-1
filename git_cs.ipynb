{
 "cells": [
  {
   "cell_type": "code",
   "execution_count": null,
   "id": "2e0d2aec-5b53-460e-b7a3-a5cd4142ac21",
   "metadata": {},
   "outputs": [],
   "source": [
    "#Importing packages.\n",
    "import pandas as pd\n",
    "import matplotlib.pyplot as plt\n",
    "import seaborn as sb\n",
    "import numpy as np\n",
    "from datetime import datetime\n",
    "from datetime_truncate import truncate\n",
    "from dateutil import parser\n",
    "\n",
    "%matplotlib inline"
   ]
  },
  {
   "cell_type": "code",
   "execution_count": null,
   "id": "bc17aaa0-51da-4c38-b0ae-387dc8398e8c",
   "metadata": {},
   "outputs": [],
   "source": [
    "# I downloaded the data locally to use in my python notebook\n",
    "order_main = pd.read_csv('/Users/crystalrood/desktop/brazilian-ecommerce/olist_orders_dataset.csv')\n",
    "products_in_order = pd.read_csv('/Users/crystalrood/desktop/brazilian-ecommerce/olist_order_items_dataset.csv')\n",
    "order_payments = pd.read_csv('/Users/crystalrood/desktop/brazilian-ecommerce/olist_order_payments_dataset.csv')\n",
    "product_info = pd.read_csv('/Users/crystalrood/desktop/brazilian-ecommerce/olist_products_dataset.csv')\n",
    "category_translated = pd.read_csv('/Users/crystalrood/desktop/brazilian-ecommerce/product_category_name_translation.csv')\n",
    "order_reviews = pd.read_csv('/Users/crystalrood/desktop/brazilian-ecommerce/olist_order_reviews_dataset.csv')\n",
    "customer_info = pd.read_csv('/Users/crystalrood/desktop/brazilian-ecommerce/olist_customers_dataset.csv')"
   ]
  }
 ],
 "metadata": {
  "kernelspec": {
   "display_name": "Python 3 (ipykernel)",
   "language": "python",
   "name": "python3"
  },
  "language_info": {
   "codemirror_mode": {
    "name": "ipython",
    "version": 3
   },
   "file_extension": ".py",
   "mimetype": "text/x-python",
   "name": "python",
   "nbconvert_exporter": "python",
   "pygments_lexer": "ipython3",
   "version": "3.10.9"
  }
 },
 "nbformat": 4,
 "nbformat_minor": 5
}
